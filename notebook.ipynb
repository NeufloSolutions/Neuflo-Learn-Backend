{
 "cells": [
  {
   "cell_type": "code",
   "execution_count": 1,
   "metadata": {},
   "outputs": [],
   "source": [
    "import os\n",
    "import fnmatch\n",
    "\n",
    "def print_files_in_directory(root_dir, exclude_dirs):\n",
    "    for root, dirs, files in os.walk(root_dir):\n",
    "        # Exclude specific directories\n",
    "        dirs[:] = [d for d in dirs if not any(fnmatch.fnmatch(d, pattern) for pattern in exclude_dirs)]\n",
    "\n",
    "        for file in files:\n",
    "            print(os.path.join(root, file))"
   ]
  },
  {
   "cell_type": "code",
   "execution_count": 2,
   "metadata": {},
   "outputs": [
    {
     "name": "stdout",
     "output_type": "stream",
     "text": [
      "./.dockerignore\n",
      "./.gitignore\n",
      "./docker-compose.debug.yml\n",
      "./docker-compose.yml\n",
      "./Dockerfile\n",
      "./notebook.ipynb\n",
      "./query\n",
      "./query.txt\n",
      "./README.md\n",
      "./redis.conf\n",
      "./requirements.txt\n",
      "./Script.sql\n",
      "./service.py\n",
      "./start.sh\n",
      "./test.py\n",
      "./Backend\\__init__.py\n",
      "./Backend\\dbconfig\\cache_management.py\n",
      "./Backend\\dbconfig\\config.py\n",
      "./Backend\\dbconfig\\db_connection.py\n",
      "./Backend\\mock\\ChapterWeightage.xlsx\n",
      "./Backend\\mock\\mock_answer_retrieval.py\n",
      "./Backend\\mock\\mock_test_management.py\n",
      "./Backend\\practice\\practice_answer_retrieval.py\n",
      "./Backend\\practice\\practice_test_management.py\n",
      "./Backend\\testmanagement\\question_management.py\n",
      "./Backend\\testmanagement\\student_proficiency.py\n",
      "./Backend\\testmanagement\\test_result_calculation.py\n",
      "./Backend\\__pycache__\\backend.cpython-311.pyc\n",
      "./Backend\\__pycache__\\config.cpython-311.pyc\n",
      "./frontend\\functions.py\n",
      "./frontend\\main.py\n"
     ]
    }
   ],
   "source": [
    "# Usage \n",
    "exclude_dirs = ['Question Database', '.devcontainer','.git']\n",
    "root_directory = './'  # Replace with your directory path\n",
    "print_files_in_directory(root_directory, exclude_dirs)"
   ]
  },
  {
   "cell_type": "code",
   "execution_count": 3,
   "metadata": {},
   "outputs": [],
   "source": [
    "import random\n",
    "import json\n",
    "\n",
    "def answer_format(keys_list, n):\n",
    "    data = {}\n",
    "    for key, ans in zip(keys_list, n):\n",
    "        time = random.randint(30, 150)  # Generate a random time between 30 and 150\n",
    "        data[str(key)] = {\"answer\": ans, \"time\": time}\n",
    "\n",
    "    # Convert dictionary to JSON string\n",
    "    json_data = json.dumps(data, separators=(',', ':'))\n",
    "\n",
    "    return json_data"
   ]
  },
  {
   "cell_type": "code",
   "execution_count": 4,
   "metadata": {},
   "outputs": [],
   "source": [
    "ques = {\n",
    "    \"Physics\": [\n",
    "        924,\n",
    "        531,\n",
    "        349,\n",
    "        43,\n",
    "        1318,\n",
    "        1254,\n",
    "        710,\n",
    "        730,\n",
    "        1505,\n",
    "        1465,\n",
    "        820,\n",
    "        1232,\n",
    "        1498,\n",
    "        1454,\n",
    "        1640,\n",
    "        557,\n",
    "        1269,\n",
    "        703,\n",
    "        1593,\n",
    "        1340,\n",
    "        26,\n",
    "        1150,\n",
    "        377,\n",
    "        883,\n",
    "        1199,\n",
    "        1632,\n",
    "        676,\n",
    "        1250,\n",
    "        899,\n",
    "        83\n",
    "    ],\n",
    "    \"Chemistry\": [\n",
    "        2352,\n",
    "        3426,\n",
    "        3167,\n",
    "        2163,\n",
    "        3299,\n",
    "        3039,\n",
    "        2843,\n",
    "        2294,\n",
    "        3099,\n",
    "        1830,\n",
    "        1865,\n",
    "        2615,\n",
    "        1959,\n",
    "        1868,\n",
    "        1988,\n",
    "        2277,\n",
    "        3324,\n",
    "        3353,\n",
    "        2382,\n",
    "        2519,\n",
    "        2150,\n",
    "        2939,\n",
    "        2271,\n",
    "        2172,\n",
    "        2694,\n",
    "        2626,\n",
    "        2255,\n",
    "        2926,\n",
    "        2117,\n",
    "        1715\n",
    "    ],\n",
    "    \"Biology\": [\n",
    "        5339,\n",
    "        4189,\n",
    "        3551,\n",
    "        4083,\n",
    "        4355,\n",
    "        3521,\n",
    "        6587,\n",
    "        3600,\n",
    "        5422,\n",
    "        4357,\n",
    "        5367,\n",
    "        4391,\n",
    "        6722,\n",
    "        5337,\n",
    "        5869,\n",
    "        6401,\n",
    "        5915,\n",
    "        5616,\n",
    "        6578,\n",
    "        6247,\n",
    "        4056,\n",
    "        6454,\n",
    "        4051,\n",
    "        3534,\n",
    "        5347,\n",
    "        3480,\n",
    "        5419,\n",
    "        4449,\n",
    "        4545,\n",
    "        3514\n",
    "    ]\n",
    "}"
   ]
  },
  {
   "cell_type": "code",
   "execution_count": 5,
   "metadata": {},
   "outputs": [
    {
     "data": {
      "text/plain": [
       "(30, 30, 30)"
      ]
     },
     "execution_count": 5,
     "metadata": {},
     "output_type": "execute_result"
    }
   ],
   "source": [
    "len(ques[\"Physics\"]),len(ques[\"Chemistry\"]),len(ques[\"Biology\"])"
   ]
  },
  {
   "cell_type": "code",
   "execution_count": 6,
   "metadata": {},
   "outputs": [],
   "source": [
    "p= [\n",
    "    \"c\",\n",
    "    \"d\",\n",
    "    \"c\",\n",
    "    \"d\",\n",
    "    \"c\",\n",
    "    \"b\",\n",
    "    \"d\",\n",
    "    \"b\",\n",
    "    \"a\",\n",
    "    \"d\",\n",
    "    \"c\",\n",
    "    \"a\",\n",
    "    \"d\",\n",
    "    \"d\",\n",
    "    \"a\",\n",
    "    \"a\",\n",
    "    \"c\",\n",
    "    \"d\",\n",
    "    \"b\",\n",
    "    \"c\",\n",
    "    \"a\",\n",
    "    \"a\",\n",
    "    \"a\",\n",
    "    \"a\",\n",
    "    \"c\",\n",
    "    \"a\",\n",
    "    \"d\",\n",
    "    \"a\",\n",
    "    \"d\",\n",
    "    \"b\"\n",
    "]"
   ]
  },
  {
   "cell_type": "code",
   "execution_count": 7,
   "metadata": {},
   "outputs": [],
   "source": [
    "c = [\n",
    "    \"d\",\n",
    "    \"d\",\n",
    "    \"b\",\n",
    "    \"d\",\n",
    "    \"d\",\n",
    "    \"d\",\n",
    "    \"a\",\n",
    "    \"a\",\n",
    "    \"c\",\n",
    "    \"c\",\n",
    "    \"c\",\n",
    "    \"b\",\n",
    "    \"b\",\n",
    "    \"d\",\n",
    "    \"a\",\n",
    "    \"b\",\n",
    "    \"a\",\n",
    "    \"d\",\n",
    "    \"a\",\n",
    "    \"d\",\n",
    "    \"a\",\n",
    "    \"b\",\n",
    "    \"c\",\n",
    "    \"c\",\n",
    "    \"c\",\n",
    "    \"b\",\n",
    "    \"b\",\n",
    "    \"c\",\n",
    "    \"b\",\n",
    "    \"c\"\n",
    "]"
   ]
  },
  {
   "cell_type": "code",
   "execution_count": 8,
   "metadata": {},
   "outputs": [],
   "source": [
    "b = [\n",
    "    \"c\",\n",
    "    \"d\",\n",
    "    \"b\",\n",
    "    \"a\",\n",
    "    \"b\",\n",
    "    \"d\",\n",
    "    \"a\",\n",
    "    \"a\",\n",
    "    \"b\",\n",
    "    \"c\",\n",
    "    \"b\",\n",
    "    \"b\",\n",
    "    \"b\",\n",
    "    \"b\",\n",
    "    \"b\",\n",
    "    \"d\",\n",
    "    \"b\",\n",
    "    \"b\",\n",
    "    \"b\",\n",
    "    \"a\",\n",
    "    \"c\",\n",
    "    \"c\",\n",
    "    \"c\",\n",
    "    \"c\",\n",
    "    \"a\",\n",
    "    \"d\",\n",
    "    \"b\",\n",
    "    \"b\",\n",
    "    \"c\",\n",
    "    \"d\"\n",
    "]"
   ]
  },
  {
   "cell_type": "code",
   "execution_count": 9,
   "metadata": {},
   "outputs": [
    {
     "data": {
      "text/plain": [
       "(30, 30)"
      ]
     },
     "execution_count": 9,
     "metadata": {},
     "output_type": "execute_result"
    }
   ],
   "source": [
    "len(ques[\"Physics\"]), len(p)"
   ]
  },
  {
   "cell_type": "code",
   "execution_count": 10,
   "metadata": {},
   "outputs": [
    {
     "data": {
      "text/plain": [
       "'{\"924\":{\"answer\":\"c\",\"time\":92},\"531\":{\"answer\":\"d\",\"time\":76},\"349\":{\"answer\":\"c\",\"time\":65},\"43\":{\"answer\":\"d\",\"time\":31},\"1318\":{\"answer\":\"c\",\"time\":125},\"1254\":{\"answer\":\"b\",\"time\":128},\"710\":{\"answer\":\"d\",\"time\":104},\"730\":{\"answer\":\"b\",\"time\":40},\"1505\":{\"answer\":\"a\",\"time\":106},\"1465\":{\"answer\":\"d\",\"time\":87},\"820\":{\"answer\":\"c\",\"time\":141},\"1232\":{\"answer\":\"a\",\"time\":50},\"1498\":{\"answer\":\"d\",\"time\":65},\"1454\":{\"answer\":\"d\",\"time\":110},\"1640\":{\"answer\":\"a\",\"time\":60},\"557\":{\"answer\":\"a\",\"time\":31},\"1269\":{\"answer\":\"c\",\"time\":99},\"703\":{\"answer\":\"d\",\"time\":41},\"1593\":{\"answer\":\"b\",\"time\":129},\"1340\":{\"answer\":\"c\",\"time\":140},\"26\":{\"answer\":\"a\",\"time\":116},\"1150\":{\"answer\":\"a\",\"time\":102},\"377\":{\"answer\":\"a\",\"time\":99},\"883\":{\"answer\":\"a\",\"time\":38},\"1199\":{\"answer\":\"c\",\"time\":61},\"1632\":{\"answer\":\"a\",\"time\":146},\"676\":{\"answer\":\"d\",\"time\":31},\"1250\":{\"answer\":\"a\",\"time\":46},\"899\":{\"answer\":\"d\",\"time\":37},\"83\":{\"answer\":\"b\",\"time\":58}}'"
      ]
     },
     "execution_count": 10,
     "metadata": {},
     "output_type": "execute_result"
    }
   ],
   "source": [
    "answer_format(ques[\"Physics\"],p)"
   ]
  },
  {
   "cell_type": "code",
   "execution_count": 11,
   "metadata": {},
   "outputs": [
    {
     "data": {
      "text/plain": [
       "'{\"2352\":{\"answer\":\"d\",\"time\":114},\"3426\":{\"answer\":\"d\",\"time\":142},\"3167\":{\"answer\":\"b\",\"time\":44},\"2163\":{\"answer\":\"d\",\"time\":84},\"3299\":{\"answer\":\"d\",\"time\":54},\"3039\":{\"answer\":\"d\",\"time\":149},\"2843\":{\"answer\":\"a\",\"time\":35},\"2294\":{\"answer\":\"a\",\"time\":97},\"3099\":{\"answer\":\"c\",\"time\":119},\"1830\":{\"answer\":\"c\",\"time\":132},\"1865\":{\"answer\":\"c\",\"time\":150},\"2615\":{\"answer\":\"b\",\"time\":50},\"1959\":{\"answer\":\"b\",\"time\":45},\"1868\":{\"answer\":\"d\",\"time\":107},\"1988\":{\"answer\":\"a\",\"time\":52},\"2277\":{\"answer\":\"b\",\"time\":130},\"3324\":{\"answer\":\"a\",\"time\":126},\"3353\":{\"answer\":\"d\",\"time\":52},\"2382\":{\"answer\":\"a\",\"time\":53},\"2519\":{\"answer\":\"d\",\"time\":72},\"2150\":{\"answer\":\"a\",\"time\":125},\"2939\":{\"answer\":\"b\",\"time\":139},\"2271\":{\"answer\":\"c\",\"time\":51},\"2172\":{\"answer\":\"c\",\"time\":49},\"2694\":{\"answer\":\"c\",\"time\":88},\"2626\":{\"answer\":\"b\",\"time\":46},\"2255\":{\"answer\":\"b\",\"time\":47},\"2926\":{\"answer\":\"c\",\"time\":108},\"2117\":{\"answer\":\"b\",\"time\":147},\"1715\":{\"answer\":\"c\",\"time\":57}}'"
      ]
     },
     "execution_count": 11,
     "metadata": {},
     "output_type": "execute_result"
    }
   ],
   "source": [
    "answer_format(ques[\"Chemistry\"],c)"
   ]
  },
  {
   "cell_type": "code",
   "execution_count": 12,
   "metadata": {},
   "outputs": [
    {
     "data": {
      "text/plain": [
       "'{\"5339\":{\"answer\":\"c\",\"time\":52},\"4189\":{\"answer\":\"d\",\"time\":110},\"3551\":{\"answer\":\"b\",\"time\":114},\"4083\":{\"answer\":\"a\",\"time\":144},\"4355\":{\"answer\":\"b\",\"time\":47},\"3521\":{\"answer\":\"d\",\"time\":81},\"6587\":{\"answer\":\"a\",\"time\":130},\"3600\":{\"answer\":\"a\",\"time\":56},\"5422\":{\"answer\":\"b\",\"time\":133},\"4357\":{\"answer\":\"c\",\"time\":106},\"5367\":{\"answer\":\"b\",\"time\":58},\"4391\":{\"answer\":\"b\",\"time\":37},\"6722\":{\"answer\":\"b\",\"time\":134},\"5337\":{\"answer\":\"b\",\"time\":146},\"5869\":{\"answer\":\"b\",\"time\":89},\"6401\":{\"answer\":\"d\",\"time\":82},\"5915\":{\"answer\":\"b\",\"time\":110},\"5616\":{\"answer\":\"b\",\"time\":46},\"6578\":{\"answer\":\"b\",\"time\":136},\"6247\":{\"answer\":\"a\",\"time\":41},\"4056\":{\"answer\":\"c\",\"time\":69},\"6454\":{\"answer\":\"c\",\"time\":66},\"4051\":{\"answer\":\"c\",\"time\":131},\"3534\":{\"answer\":\"c\",\"time\":76},\"5347\":{\"answer\":\"a\",\"time\":66},\"3480\":{\"answer\":\"d\",\"time\":60},\"5419\":{\"answer\":\"b\",\"time\":103},\"4449\":{\"answer\":\"b\",\"time\":59},\"4545\":{\"answer\":\"c\",\"time\":85},\"3514\":{\"answer\":\"d\",\"time\":115}}'"
      ]
     },
     "execution_count": 12,
     "metadata": {},
     "output_type": "execute_result"
    }
   ],
   "source": [
    "answer_format(ques[\"Biology\"],b)"
   ]
  },
  {
   "cell_type": "code",
   "execution_count": 12,
   "metadata": {},
   "outputs": [],
   "source": [
    "d ={\"answers\":{\"0_SectionA_37\":{\"answer\":\"d\",\"time\":58},\"0_SectionA_44\":{\"answer\":\"c\",\"time\":68},\"0_SectionA_75\":{\"answer\":\"c\",\"time\":83},\"0_SectionA_214\":{\"answer\":\"b\",\"time\":99},\"0_SectionB_247\":{\"answer\":\"b\",\"time\":95},\"0_SectionA_272\":{\"answer\":\"a\",\"time\":61},\"0_SectionB_309\":{\"answer\":\"d\",\"time\":69},\"0_SectionA_338\":{\"answer\":\"b\",\"time\":97},\"0_SectionA_363\":{\"answer\":\"c\",\"time\":83},\"0_SectionA_404\":{\"answer\":\"a\",\"time\":32},\"0_SectionA_555\":{\"answer\":\"a\",\"time\":82},\"0_SectionA_569\":{\"answer\":\"b\",\"time\":67},\"0_SectionA_585\":{\"answer\":\"a\",\"time\":90},\"0_SectionA_594\":{\"answer\":\"b\",\"time\":97},\"0_SectionA_595\":{\"answer\":\"d\",\"time\":68},\"0_SectionB_665\":{\"answer\":\"a\",\"time\":87},\"0_SectionA_701\":{\"answer\":\"c\",\"time\":55},\"0_SectionA_795\":{\"answer\":\"c\",\"time\":62},\"0_SectionA_935\":{\"answer\":\"a\",\"time\":51},\"0_SectionA_879\":{\"answer\":\"c\",\"time\":62},\"0_SectionB_886\":{\"answer\":\"a\",\"time\":96},\"0_SectionA_941\":{\"answer\":\"b\",\"time\":91},\"0_SectionA_969\":{\"answer\":\"b\",\"time\":92},\"0_SectionB_972\":{\"answer\":\"a\",\"time\":97},\"0_SectionA_1002\":{\"answer\":\"b\",\"time\":60},\"0_SectionB_1179\":{\"answer\":\"d\",\"time\":75},\"0_SectionB_1242\":{\"answer\":\"b\",\"time\":100},\"0_SectionB_1255\":{\"answer\":\"c\",\"time\":79},\"0_SectionA_1317\":{\"answer\":\"c\",\"time\":65},\"0_SectionB_1362\":{\"answer\":\"b\",\"time\":80},\"0_SectionA_1377\":{\"answer\":\"b\",\"time\":89},\"0_SectionA_1411\":{\"answer\":\"b\",\"time\":45},\"0_SectionA_1427\":{\"answer\":\"b\",\"time\":58},\"0_SectionB_1451\":{\"answer\":\"c\",\"time\":84},\"0_SectionA_1473\":{\"answer\":\"a\",\"time\":48},\"0_SectionA_1488\":{\"answer\":\"d\",\"time\":59},\"0_SectionB_1501\":{\"answer\":\"d\",\"time\":32},\"0_SectionB_1516\":{\"answer\":\"a\",\"time\":54},\"0_SectionA_1541\":{\"answer\":\"d\",\"time\":93},\"0_SectionA_1544\":{\"answer\":\"b\",\"time\":70},\"0_SectionA_1608\":{\"answer\":\"a\",\"time\":90},\"0_SectionB_1643\":{\"answer\":\"s\",\"time\":96},\"1_SectionB_1687\":{\"answer\":\"b\",\"time\":31},\"1_SectionA_1689\":{\"answer\":\"b\",\"time\":79},\"1_SectionA_1694\":{\"answer\":\"a\",\"time\":44},\"1_SectionA_1751\":{\"answer\":\"a\",\"time\":64},\"1_SectionA_1903\":{\"answer\":\"c\",\"time\":61},\"1_SectionB_1907\":{\"answer\":\"a\",\"time\":56},\"1_SectionA_1909\":{\"answer\":\"a\",\"time\":99},\"1_SectionA_1991\":{\"answer\":\"c\",\"time\":49},\"1_SectionA_2008\":{\"answer\":\"c\",\"time\":40},\"1_SectionA_2061\":{\"answer\":\"a\",\"time\":79},\"1_SectionA_2062\":{\"answer\":\"c\",\"time\":88},\"1_SectionB_2088\":{\"answer\":\"c\",\"time\":37},\"1_SectionB_2113\":{\"answer\":\"c\",\"time\":57},\"1_SectionA_2162\":{\"answer\":\"a\",\"time\":91},\"1_SectionA_2184\":{\"answer\":\"b\",\"time\":73},\"1_SectionA_2185\":{\"answer\":\"c\",\"time\":89},\"1_SectionB_2285\":{\"answer\":\"c\",\"time\":96},\"1_SectionB_2342\":{\"answer\":\"d\",\"time\":64},\"1_SectionA_2393\":{\"answer\":\"b\",\"time\":96},\"1_SectionA_2506\":{\"answer\":\"d\",\"time\":74},\"1_SectionB_2556\":{\"answer\":\"a\",\"time\":52},\"1_SectionB_2562\":{\"answer\":\"b\",\"time\":71},\"1_SectionA_2576\":{\"answer\":\"b\",\"time\":38},\"1_SectionA_2619\":{\"answer\":\"a\",\"time\":42},\"1_SectionA_2720\":{\"answer\":\"b\",\"time\":51},\"1_SectionA_2802\":{\"answer\":\"b\",\"time\":58},\"1_SectionA_2872\":{\"answer\":\"c\",\"time\":71},\"1_SectionB_2893\":{\"answer\":\"d\",\"time\":74},\"1_SectionA_2931\":{\"answer\":\"b\",\"time\":59},\"1_SectionB_2952\":{\"answer\":\"c\",\"time\":61},\"1_SectionA_2992\":{\"answer\":\"b\",\"time\":64},\"1_SectionB_3357\":{\"answer\":\"b\",\"time\":96},\"1_SectionA_3365\":{\"answer\":\"a\",\"time\":84},\"2_SectionB_3519\":{\"answer\":\"b\",\"time\":40},\"2_SectionA_3525\":{\"answer\":\"a\",\"time\":70},\"2_SectionA_3527\":{\"answer\":\"b\",\"time\":98},\"2_SectionB_3563\":{\"answer\":\"b\",\"time\":45},\"2_SectionA_3623\":{\"answer\":\"c\",\"time\":100},\"2_SectionA_3627\":{\"answer\":\"a\",\"time\":76},\"2_SectionA_3681\":{\"answer\":\"b\",\"time\":80},\"2_SectionB_3687\":{\"answer\":\"c\",\"time\":75},\"2_SectionA_3745\":{\"answer\":\"c\",\"time\":51},\"2_SectionA_3746\":{\"answer\":\"a\",\"time\":36},\"3_SectionA_3752\":{\"answer\":\"a\",\"time\":45},\"3_SectionA_3766\":{\"answer\":\"b\",\"time\":92},\"3_SectionA_3771\":{\"answer\":\"a\",\"time\":35},\"3_SectionA_3803\":{\"answer\":\"c\",\"time\":76},\"3_SectionA_3812\":{\"answer\":\"d\",\"time\":43},\"3_SectionB_3825\":{\"answer\":\"b\",\"time\":63},\"3_SectionA_3830\":{\"answer\":\"d\",\"time\":82},\"3_SectionB_3835\":{\"answer\":\"a\",\"time\":83},\"3_SectionB_3851\":{\"answer\":\"a\",\"time\":37},\"3_SectionA_3877\":{\"answer\":\"d\",\"time\":86},\"3_SectionB_3882\":{\"answer\":\"b\",\"time\":95},\"2_SectionA_4035\":{\"answer\":\"d\",\"time\":88},\"3_SectionA_4123\":{\"answer\":\"d\",\"time\":84},\"2_SectionB_4204\":{\"answer\":\"c\",\"time\":56},\"2_SectionB_4205\":{\"answer\":\"b\",\"time\":95},\"2_SectionA_4207\":{\"answer\":\"a\",\"time\":49},\"2_SectionB_4219\":{\"answer\":\"c\",\"time\":95},\"2_SectionA_4269\":{\"answer\":\"c\",\"time\":81},\"2_SectionB_4274\":{\"answer\":\"d\",\"time\":54},\"2_SectionA_4313\":{\"answer\":\"b\",\"time\":59},\"2_SectionB_4332\":{\"answer\":\"a\",\"time\":48},\"2_SectionA_4352\":{\"answer\":\"c\",\"time\":39},\"2_SectionA_4390\":{\"answer\":\"b\",\"time\":48},\"2_SectionA_4402\":{\"answer\":\"b\",\"time\":36},\"2_SectionA_4489\":{\"answer\":\"d\",\"time\":42},\"2_SectionA_4678\":{\"answer\":\"b\",\"time\":96},\"3_SectionA_4800\":{\"answer\":\"c\",\"time\":48},\"3_SectionA_4813\":{\"answer\":\"d\",\"time\":41},\"3_SectionA_4820\":{\"answer\":\"b\",\"time\":95},\"3_SectionA_4821\":{\"answer\":\"d\",\"time\":76},\"3_SectionB_4955\":{\"answer\":\"a\",\"time\":85},\"3_SectionA_5008\":{\"answer\":\"b\",\"time\":76},\"3_SectionB_5050\":{\"answer\":\"b\",\"time\":38},\"3_SectionA_5094\":{\"answer\":\"d\",\"time\":45},\"3_SectionB_5209\":{\"answer\":\"b\",\"time\":49},\"3_SectionB_5213\":{\"answer\":\"a\",\"time\":51},\"3_SectionA_5277\":{\"answer\":\"b\",\"time\":49},\"3_SectionA_5318\":{\"answer\":\"a\",\"time\":32},\"2_SectionA_5361\":{\"answer\":\"b\",\"time\":80},\"2_SectionA_5427\":{\"answer\":\"a\",\"time\":42},\"2_SectionB_5437\":{\"answer\":\"d\",\"time\":80},\"3_SectionA_5461\":{\"answer\":\"c\",\"time\":51},\"3_SectionA_5476\":{\"answer\":\"c\",\"time\":31},\"3_SectionB_5488\":{\"answer\":\"b\",\"time\":55},\"3_SectionB_5520\":{\"answer\":\"c\",\"time\":33},\"2_SectionA_5600\":{\"answer\":\"a\",\"time\":81},\"2_SectionA_5610\":{\"answer\":\"b\",\"time\":36},\"2_SectionA_5653\":{\"answer\":\"a\",\"time\":70},\"2_SectionA_5706\":{\"answer\":\"d\",\"time\":31},\"2_SectionA_5736\":{\"answer\":\"d\",\"time\":91},\"2_SectionA_5743\":{\"answer\":\"b\",\"time\":87},\"2_SectionA_5772\":{\"answer\":\"d\",\"time\":92},\"2_SectionA_5807\":{\"answer\":\"c\",\"time\":56},\"2_SectionA_5859\":{\"answer\":\"a\",\"time\":41},\"2_SectionA_5904\":{\"answer\":\"c\",\"time\":94},\"2_SectionA_5925\":{\"answer\":\"b\",\"time\":84},\"2_SectionB_5942\":{\"answer\":\"c\",\"time\":86},\"3_SectionA_5966\":{\"answer\":\"b\",\"time\":43},\"3_SectionA_5972\":{\"answer\":\"a\",\"time\":63},\"3_SectionA_6055\":{\"answer\":\"c\",\"time\":71},\"3_SectionB_6072\":{\"answer\":\"d\",\"time\":52},\"3_SectionA_6083\":{\"answer\":\"a\",\"time\":31},\"3_SectionA_6088\":{\"answer\":\"c\",\"time\":43},\"3_SectionA_6111\":{\"answer\":\"a\",\"time\":89},\"3_SectionA_6122\":{\"answer\":\"b\",\"time\":34},\"3_SectionA_6123\":{\"answer\":\"c\",\"time\":93},\"3_SectionA_6140\":{\"answer\":\"b\",\"time\":36},\"3_SectionB_6149\":{\"answer\":\"d\",\"time\":67},\"3_SectionA_6165\":{\"answer\":\"a\",\"time\":72},\"3_SectionA_6213\":{\"answer\":\"a\",\"time\":88},\"3_SectionA_6325\":{\"answer\":\"c\",\"time\":99},\"3_SectionA_6355\":{\"answer\":\"b\",\"time\":42},\"3_SectionA_6357\":{\"answer\":\"a\",\"time\":91},\"2_SectionA_6402\":{\"answer\":\"c\",\"time\":46},\"2_SectionB_6540\":{\"answer\":\"d\",\"time\":43},\"2_SectionA_6566\":{\"answer\":\"a\",\"time\":38},\"2_SectionB_6609\":{\"answer\":\"d\",\"time\":79},\"2_SectionA_6686\":{\"answer\":\"a\",\"time\":84},\"2_SectionB_6754\":{\"answer\":\"c\",\"time\":62},\"2_SectionA_6777\":{\"answer\":\"c\",\"time\":97},\"2_SectionA_6826\":{\"answer\":\"b\",\"time\":94},\"0_SectionA_368\":{\"answer\":\"d\",\"time\":55},\"0_SectionB_370\":{\"answer\":\"b\",\"time\":38},\"1_SectionA_2830\":{\"answer\":\"b\",\"time\":41},\"0_SectionB_906\":{\"answer\":\"a\",\"time\":49},\"0_SectionA_1052\":{\"answer\":\"d\",\"time\":87},\"0_SectionA_1388\":{\"answer\":\"a\",\"time\":71},\"0_SectionA_1571\":{\"answer\":\"b\",\"time\":59},\"0_SectionA_1662\":{\"answer\":\"b\",\"time\":76},\"0_SectionA_1671\":{\"answer\":\"b\",\"time\":56},\"1_SectionA_3175\":{\"answer\":\"b\",\"time\":33},\"1_SectionA_2351\":{\"answer\":\"d\",\"time\":68},\"1_SectionA_2401\":{\"answer\":\"b\",\"time\":42},\"1_SectionA_2429\":{\"answer\":\"a\",\"time\":65},\"1_SectionB_2430\":{\"answer\":\"d\",\"time\":98},\"1_SectionA_2449\":{\"answer\":\"d\",\"time\":55},\"1_SectionA_2450\":{\"answer\":\"a\",\"time\":81},\"1_SectionB_2467\":{\"answer\":\"b\",\"time\":39},\"1_SectionA_2468\":{\"answer\":\"d\",\"time\":52},\"1_SectionA_2475\":{\"answer\":\"a\",\"time\":53},\"1_SectionA_2956\":{\"answer\":\"b\",\"time\":32},\"1_SectionB_2990\":{\"answer\":\"b\",\"time\":39},\"1_SectionA_3126\":{\"answer\":\"b\",\"time\":51},\"1_SectionB_3171\":{\"answer\":\"d\",\"time\":39},\"1_SectionA_3197\":{\"answer\":\"b\",\"time\":99},\"1_SectionA_3321\":{\"answer\":\"b\",\"time\":83},\"3_SectionA_3828\":{\"answer\":\"d\",\"time\":35},\"2_SectionB_4404\":{\"answer\":\"c\",\"time\":86},\"3_SectionB_5204\":{\"answer\":\"b\",\"time\":48},\"3_SectionA_5481\":{\"answer\":\"d\",\"time\":55},\"3_SectionB_5540\":{\"answer\":\"a\",\"time\":30},\"2_SectionB_5609\":{\"answer\":\"d\",\"time\":77},\"2_SectionA_5678\":{\"answer\":\"a\",\"time\":54},\"3_SectionB_6110\":{\"answer\":\"b\",\"time\":61},\"3_SectionA_6208\":{\"answer\":\"a\",\"time\":93}}}"
   ]
  },
  {
   "cell_type": "code",
   "execution_count": null,
   "metadata": {},
   "outputs": [],
   "source": [
    "for a,b in d.items():\n",
    "    print(a,b)"
   ]
  },
  {
   "cell_type": "code",
   "execution_count": 1,
   "metadata": {},
   "outputs": [],
   "source": [
    "# config.py\n",
    "DB_CONFIG = {\n",
    "    \"host\": \"20.244.33.58\",\n",
    "    \"database\": \"neuflolearndb\",\n",
    "    \"user\": \"neufloneet\",\n",
    "    \"password\": \"LearnNEET321\",\n",
    "    \"port\": \"5432\"\n",
    "}\n",
    "\n",
    "\n",
    "# db_connection.py\n",
    "import psycopg2\n",
    "from psycopg2 import pool\n",
    "import redis\n",
    "\n",
    "# Initialize the connection pool for PostgreSQL\n",
    "def init_pg_connection_pool():\n",
    "    connection_pool = pool.SimpleConnectionPool(1, 10, **DB_CONFIG)\n",
    "    if connection_pool.closed:\n",
    "        print(\"Failed to create the PostgreSQL connection pool\")\n",
    "    return connection_pool\n",
    "\n",
    "# Initialize Redis client\n",
    "def init_redis_client():\n",
    "    return redis.Redis(host='localhost', port=6379, db=0)\n",
    "\n",
    "# Function to create and return a new PostgreSQL connection\n",
    "def create_pg_connection(connection_pool):\n",
    "    try:\n",
    "        return connection_pool.getconn()\n",
    "    except (Exception, psycopg2.DatabaseError) as error:\n",
    "        print(error)\n",
    "        return None\n",
    "\n",
    "# Function to release a PostgreSQL connection back to the pool\n",
    "def release_pg_connection(connection_pool, connection):\n",
    "    if connection:\n",
    "        connection_pool.putconn(connection)\n",
    "\n",
    "# Initialize connection pools and clients\n",
    "pg_connection_pool = init_pg_connection_pool()\n",
    "redis_client = init_redis_client()\n"
   ]
  },
  {
   "cell_type": "code",
   "execution_count": 4,
   "metadata": {},
   "outputs": [],
   "source": [
    "def delete_all_test_data():\n",
    "    conn = create_pg_connection(pg_connection_pool)\n",
    "    if not conn:\n",
    "        return \"Database connection failed\"\n",
    "\n",
    "    try:\n",
    "        with conn.cursor() as cur:\n",
    "            # List of tables to be cleared\n",
    "            tables_to_clear = [\n",
    "                \"PracticeTests\", \"PracticeTestSubjects\", \"PracticeTestQuestions\",\n",
    "                \"PracticeTestCompletion\", \"NEETMockTests\", \"NEETMockTestQuestions\", \"StudentMockTestHistory\",\n",
    "                \"testinstances\", \"StudentResponses\", \"TestHistory\", \"ChapterProficiency\",\n",
    "                \"SubtopicProficiency\", \"StudentTestTargets\", \"PracticeTestProficiency\",\n",
    "                \"MockTestProficiency\"\n",
    "            ]\n",
    "\n",
    "            # Executing delete statements for each table\n",
    "            for table in tables_to_clear:\n",
    "                cur.execute(f\"TRUNCATE {table} CASCADE\")\n",
    "            print(f\"Cleared data from all tables\")\n",
    "\n",
    "            # Commit the changes\n",
    "            conn.commit()\n",
    "            return \"All test data cleared successfully\"\n",
    "\n",
    "    except Exception as e:\n",
    "        conn.rollback()\n",
    "        return f\"An error occurred: {str(e)}\"\n",
    "    finally:\n",
    "        if conn:\n",
    "            release_pg_connection(pg_connection_pool, conn)"
   ]
  },
  {
   "cell_type": "code",
   "execution_count": 5,
   "metadata": {},
   "outputs": [
    {
     "name": "stdout",
     "output_type": "stream",
     "text": [
      "Cleared data from all tables\n"
     ]
    },
    {
     "data": {
      "text/plain": [
       "'All test data cleared successfully'"
      ]
     },
     "execution_count": 5,
     "metadata": {},
     "output_type": "execute_result"
    }
   ],
   "source": [
    "delete_all_test_data()"
   ]
  },
  {
   "cell_type": "code",
   "execution_count": null,
   "metadata": {},
   "outputs": [],
   "source": []
  }
 ],
 "metadata": {
  "kernelspec": {
   "display_name": "Python 3",
   "language": "python",
   "name": "python3"
  },
  "language_info": {
   "codemirror_mode": {
    "name": "ipython",
    "version": 3
   },
   "file_extension": ".py",
   "mimetype": "text/x-python",
   "name": "python",
   "nbconvert_exporter": "python",
   "pygments_lexer": "ipython3",
   "version": "3.11.4"
  }
 },
 "nbformat": 4,
 "nbformat_minor": 2
}
