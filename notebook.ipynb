{
 "cells": [
  {
   "cell_type": "code",
   "execution_count": 8,
   "metadata": {},
   "outputs": [],
   "source": [
    "import os\n",
    "import fnmatch\n",
    "\n",
    "def print_files_in_directory(root_dir, exclude_dirs):\n",
    "    for root, dirs, files in os.walk(root_dir):\n",
    "        # Exclude specific directories\n",
    "        dirs[:] = [d for d in dirs if not any(fnmatch.fnmatch(d, pattern) for pattern in exclude_dirs)]\n",
    "\n",
    "        for file in files:\n",
    "            print(os.path.join(root, file))"
   ]
  },
  {
   "cell_type": "code",
   "execution_count": 9,
   "metadata": {},
   "outputs": [
    {
     "name": "stdout",
     "output_type": "stream",
     "text": [
      "./.dockerignore\n",
      "./.gitignore\n",
      "./docker-compose.debug.yml\n",
      "./docker-compose.yml\n",
      "./Dockerfile\n",
      "./notebook.ipynb\n",
      "./query.txt\n",
      "./README.md\n",
      "./redis.conf\n",
      "./requirements.txt\n",
      "./Script.sql\n",
      "./service.py\n",
      "./start.sh\n",
      "./test.py\n",
      "./Backend/__init__.py\n",
      "./Backend/dbconfig/cache_management.py\n",
      "./Backend/dbconfig/config.py\n",
      "./Backend/dbconfig/db_connection.py\n",
      "./Backend/mock/ChapterWeightage.xlsx\n",
      "./Backend/mock/chapter_weightage_management.py\n",
      "./Backend/mock/mock_test_configuration_management.py\n",
      "./Backend/mock/mock_test_management.py\n",
      "./Backend/mock/student_mock_test_history_management.py\n",
      "./Backend/practice/answer_retrieval.py\n",
      "./Backend/practice/practice_test_management.py\n",
      "./Backend/testmanagement/question_management.py\n",
      "./Backend/testmanagement/student_proficiency.py\n",
      "./Backend/testmanagement/test_result_calculation.py\n",
      "./Backend/__pycache__/backend.cpython-311.pyc\n",
      "./Backend/__pycache__/config.cpython-311.pyc\n",
      "./frontend/functions.py\n",
      "./frontend/main.py\n"
     ]
    }
   ],
   "source": [
    "# Usage \n",
    "exclude_dirs = ['Question Database', '.devcontainer','.git']\n",
    "root_directory = './'  # Replace with your directory path\n",
    "print_files_in_directory(root_directory, exclude_dirs)"
   ]
  },
  {
   "cell_type": "code",
   "execution_count": 1,
   "metadata": {},
   "outputs": [],
   "source": [
    "import random\n",
    "import json\n",
    "\n",
    "def answer_format(keys_list, n):\n",
    "    data = {}\n",
    "    for key, ans in zip(keys_list, n):\n",
    "        time = random.randint(30, 150)  # Generate a random time between 30 and 150\n",
    "        data[str(key)] = {\"answer\": ans, \"time\": time}\n",
    "\n",
    "    # Convert dictionary to JSON string\n",
    "    json_data = json.dumps(data, separators=(',', ':'))\n",
    "\n",
    "    return json_data"
   ]
  },
  {
   "cell_type": "code",
   "execution_count": 2,
   "metadata": {},
   "outputs": [],
   "source": [
    "ques = {\n",
    "  \"Physics\": [\n",
    "    1359,\n",
    "    1626,\n",
    "    660,\n",
    "    1147,\n",
    "    1314,\n",
    "    1345,\n",
    "    1542,\n",
    "    278,\n",
    "    605,\n",
    "    1087,\n",
    "    301,\n",
    "    215,\n",
    "    580,\n",
    "    1644,\n",
    "    1019,\n",
    "    175,\n",
    "    1110,\n",
    "    675,\n",
    "    1585,\n",
    "    158,\n",
    "    184,\n",
    "    936,\n",
    "    58,\n",
    "    1475,\n",
    "    1588,\n",
    "    1008,\n",
    "    1277,\n",
    "    237,\n",
    "    1240,\n",
    "    983\n",
    "  ],\n",
    "  \"Chemistry\": [\n",
    "    1928,\n",
    "    3359,\n",
    "    2599,\n",
    "    1911,\n",
    "    2938,\n",
    "    1889,\n",
    "    1901,\n",
    "    1809,\n",
    "    2686,\n",
    "    2761,\n",
    "    2111,\n",
    "    2516,\n",
    "    2080,\n",
    "    3417,\n",
    "    3133,\n",
    "    2264,\n",
    "    2641,\n",
    "    3207,\n",
    "    2861,\n",
    "    1690,\n",
    "    3034,\n",
    "    2837,\n",
    "    2617,\n",
    "    2296,\n",
    "    2692,\n",
    "    3153,\n",
    "    2461,\n",
    "    2647,\n",
    "    2500,\n",
    "    1903\n",
    "  ],\n",
    "  \"Biology\": [\n",
    "    6794,\n",
    "    4676,\n",
    "    5325,\n",
    "    5850,\n",
    "    4269,\n",
    "    5862,\n",
    "    4563,\n",
    "    5344,\n",
    "    4425,\n",
    "    6454,\n",
    "    3442,\n",
    "    5783,\n",
    "    5838,\n",
    "    3745,\n",
    "    5931,\n",
    "    6699,\n",
    "    3614,\n",
    "    6435,\n",
    "    4786,\n",
    "    5583,\n",
    "    6281,\n",
    "    3478,\n",
    "    4758,\n",
    "    4581,\n",
    "    4346,\n",
    "    4657,\n",
    "    4088,\n",
    "    5792,\n",
    "    4077,\n",
    "    4109\n",
    "  ]\n",
    "}"
   ]
  },
  {
   "cell_type": "code",
   "execution_count": 3,
   "metadata": {},
   "outputs": [
    {
     "data": {
      "text/plain": [
       "(30, 30, 30)"
      ]
     },
     "execution_count": 3,
     "metadata": {},
     "output_type": "execute_result"
    }
   ],
   "source": [
    "len(ques[\"Physics\"]),len(ques[\"Chemistry\"]),len(ques[\"Biology\"])"
   ]
  },
  {
   "cell_type": "code",
   "execution_count": 4,
   "metadata": {},
   "outputs": [],
   "source": [
    "p= [\n",
    "  \"c\",\n",
    "  \"c\",\n",
    "  \"d\",\n",
    "  \"d\",\n",
    "  \"b\",\n",
    "  \"a\",\n",
    "  \"a\",\n",
    "  \"b\",\n",
    "  \"c\",\n",
    "  \"c\",\n",
    "  \"d\",\n",
    "  \"a\",\n",
    "  \"b\",\n",
    "  \"c\",\n",
    "  \"c\",\n",
    "  \"b\",\n",
    "  \"c\",\n",
    "  \"a\",\n",
    "  \"b\",\n",
    "  \"a\",\n",
    "  \"a\",\n",
    "  \"c\",\n",
    "  \"b\",\n",
    "  \"a\",\n",
    "  \"a\",\n",
    "  \"c\",\n",
    "  \"a\",\n",
    "  \"b\",\n",
    "  \"d\",\n",
    "  \"a\"\n",
    "]"
   ]
  },
  {
   "cell_type": "code",
   "execution_count": 5,
   "metadata": {},
   "outputs": [],
   "source": [
    "c = [\n",
    "  \"a\",\n",
    "  \"c\",\n",
    "  \"b\",\n",
    "  \"b\",\n",
    "  \"c\",\n",
    "  \"b\",\n",
    "  \"c\",\n",
    "  \"b\",\n",
    "  \"d\",\n",
    "  \"b\",\n",
    "  \"c\",\n",
    "  \"d\",\n",
    "  \"d\",\n",
    "  \"c\",\n",
    "  \"d\",\n",
    "  \"c\",\n",
    "  \"c\",\n",
    "  \"d\",\n",
    "  \"c\",\n",
    "  \"c\",\n",
    "  \"a\",\n",
    "  \"d\",\n",
    "  \"d\",\n",
    "  \"b\",\n",
    "  \"a\",\n",
    "  \"a\",\n",
    "  \"b\",\n",
    "  \"c\",\n",
    "  \"b\",\n",
    "  \"c\"\n",
    "]"
   ]
  },
  {
   "cell_type": "code",
   "execution_count": 6,
   "metadata": {},
   "outputs": [],
   "source": [
    "b = [\n",
    "  \"c\",\n",
    "  \"a\",\n",
    "  \"a\",\n",
    "  \"d\",\n",
    "  \"c\",\n",
    "  \"a\",\n",
    "  \"b\",\n",
    "  \"d\",\n",
    "  \"c\",\n",
    "  \"b\",\n",
    "  \"b\",\n",
    "  \"a\",\n",
    "  \"a\",\n",
    "  \"c\",\n",
    "  \"c\",\n",
    "  \"b\",\n",
    "  \"a\",\n",
    "  \"d\",\n",
    "  \"d\",\n",
    "  \"c\",\n",
    "  \"d\",\n",
    "  \"d\",\n",
    "  \"a\",\n",
    "  \"b\",\n",
    "  \"c\",\n",
    "  \"a\",\n",
    "  \"c\",\n",
    "  \"b\",\n",
    "  \"b\",\n",
    "  \"a\"\n",
    "]"
   ]
  },
  {
   "cell_type": "code",
   "execution_count": 7,
   "metadata": {},
   "outputs": [
    {
     "data": {
      "text/plain": [
       "(30, 30)"
      ]
     },
     "execution_count": 7,
     "metadata": {},
     "output_type": "execute_result"
    }
   ],
   "source": [
    "len(ques[\"Physics\"]), len(p)"
   ]
  },
  {
   "cell_type": "code",
   "execution_count": null,
   "metadata": {},
   "outputs": [],
   "source": [
    "answer_format(ques[\"Physics\"],p)"
   ]
  },
  {
   "cell_type": "code",
   "execution_count": null,
   "metadata": {},
   "outputs": [],
   "source": [
    "answer_format(ques[\"Chemistry\"],c)"
   ]
  },
  {
   "cell_type": "code",
   "execution_count": null,
   "metadata": {},
   "outputs": [],
   "source": [
    "answer_format(ques[\"Biology\"],b)"
   ]
  }
 ],
 "metadata": {
  "kernelspec": {
   "display_name": "Python 3",
   "language": "python",
   "name": "python3"
  },
  "language_info": {
   "codemirror_mode": {
    "name": "ipython",
    "version": 3
   },
   "file_extension": ".py",
   "mimetype": "text/x-python",
   "name": "python",
   "nbconvert_exporter": "python",
   "pygments_lexer": "ipython3",
   "version": "3.11.4"
  }
 },
 "nbformat": 4,
 "nbformat_minor": 2
}
