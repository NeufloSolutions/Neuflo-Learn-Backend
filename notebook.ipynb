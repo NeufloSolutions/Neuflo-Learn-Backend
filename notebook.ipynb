{
 "cells": [
  {
   "cell_type": "code",
   "execution_count": 8,
   "metadata": {},
   "outputs": [],
   "source": [
    "import os\n",
    "import fnmatch\n",
    "\n",
    "def print_files_in_directory(root_dir, exclude_dirs):\n",
    "    for root, dirs, files in os.walk(root_dir):\n",
    "        # Exclude specific directories\n",
    "        dirs[:] = [d for d in dirs if not any(fnmatch.fnmatch(d, pattern) for pattern in exclude_dirs)]\n",
    "\n",
    "        for file in files:\n",
    "            print(os.path.join(root, file))"
   ]
  },
  {
   "cell_type": "code",
   "execution_count": 9,
   "metadata": {},
   "outputs": [
    {
     "name": "stdout",
     "output_type": "stream",
     "text": [
      "./.dockerignore\n",
      "./.gitignore\n",
      "./docker-compose.debug.yml\n",
      "./docker-compose.yml\n",
      "./Dockerfile\n",
      "./notebook.ipynb\n",
      "./query.txt\n",
      "./README.md\n",
      "./redis.conf\n",
      "./requirements.txt\n",
      "./Script.sql\n",
      "./service.py\n",
      "./start.sh\n",
      "./test.py\n",
      "./Backend/__init__.py\n",
      "./Backend/dbconfig/cache_management.py\n",
      "./Backend/dbconfig/config.py\n",
      "./Backend/dbconfig/db_connection.py\n",
      "./Backend/mock/ChapterWeightage.xlsx\n",
      "./Backend/mock/chapter_weightage_management.py\n",
      "./Backend/mock/mock_test_configuration_management.py\n",
      "./Backend/mock/mock_test_management.py\n",
      "./Backend/mock/student_mock_test_history_management.py\n",
      "./Backend/practice/answer_retrieval.py\n",
      "./Backend/practice/practice_test_management.py\n",
      "./Backend/testmanagement/question_management.py\n",
      "./Backend/testmanagement/student_proficiency.py\n",
      "./Backend/testmanagement/test_result_calculation.py\n",
      "./Backend/__pycache__/backend.cpython-311.pyc\n",
      "./Backend/__pycache__/config.cpython-311.pyc\n",
      "./frontend/functions.py\n",
      "./frontend/main.py\n"
     ]
    }
   ],
   "source": [
    "# Usage \n",
    "exclude_dirs = ['Question Database', '.devcontainer','.git']\n",
    "root_directory = './'  # Replace with your directory path\n",
    "print_files_in_directory(root_directory, exclude_dirs)"
   ]
  },
  {
   "cell_type": "code",
   "execution_count": 9,
   "metadata": {},
   "outputs": [],
   "source": [
    "import random\n",
    "import json\n",
    "\n",
    "def answer_format(keys_list, n):\n",
    "    data = {}\n",
    "    for key, ans in zip(keys_list, n):\n",
    "        time = random.randint(30, 150)  # Generate a random time between 30 and 150\n",
    "        data[str(key)] = {\"answer\": ans, \"time\": time}\n",
    "\n",
    "    # Convert dictionary to JSON string\n",
    "    json_data = json.dumps(data, separators=(',', ':'))\n",
    "\n",
    "    return json_data"
   ]
  },
  {
   "cell_type": "code",
   "execution_count": 10,
   "metadata": {},
   "outputs": [],
   "source": [
    "ques = {\n",
    "  \"Physics\": [\n",
    "    1646,\n",
    "    1243,\n",
    "    1153,\n",
    "    1364,\n",
    "    1427,\n",
    "    1452,\n",
    "    602,\n",
    "    1579,\n",
    "    793,\n",
    "    1467,\n",
    "    81,\n",
    "    1296,\n",
    "    1162,\n",
    "    791,\n",
    "    61,\n",
    "    418,\n",
    "    710,\n",
    "    261,\n",
    "    767,\n",
    "    1291,\n",
    "    586,\n",
    "    1194,\n",
    "    322,\n",
    "    828,\n",
    "    1577,\n",
    "    1356,\n",
    "    55,\n",
    "    240,\n",
    "    343,\n",
    "    1019\n",
    "  ],\n",
    "  \"Chemistry\": [\n",
    "    2271,\n",
    "    2596,\n",
    "    2337,\n",
    "    2990,\n",
    "    3085,\n",
    "    2293,\n",
    "    3234,\n",
    "    2400,\n",
    "    1847,\n",
    "    2181,\n",
    "    2677,\n",
    "    2909,\n",
    "    2886,\n",
    "    2106,\n",
    "    2674,\n",
    "    2223,\n",
    "    3297,\n",
    "    2389,\n",
    "    1983,\n",
    "    3375,\n",
    "    2760,\n",
    "    1858,\n",
    "    2230,\n",
    "    3325,\n",
    "    3392,\n",
    "    2895,\n",
    "    2858,\n",
    "    2356,\n",
    "    3046,\n",
    "    1863\n",
    "  ],\n",
    "  \"Biology\": [\n",
    "    4346,\n",
    "    5747,\n",
    "    6825,\n",
    "    4264,\n",
    "    6241,\n",
    "    4482,\n",
    "    6273,\n",
    "    5768,\n",
    "    4703,\n",
    "    6820,\n",
    "    4187,\n",
    "    6578,\n",
    "    4367,\n",
    "    5648,\n",
    "    5860,\n",
    "    3469,\n",
    "    4761,\n",
    "    3537,\n",
    "    5377,\n",
    "    4418,\n",
    "    6258,\n",
    "    6727,\n",
    "    5759,\n",
    "    4017,\n",
    "    3614,\n",
    "    4651,\n",
    "    3561,\n",
    "    4443,\n",
    "    3548,\n",
    "    4605\n",
    "  ]\n",
    "}"
   ]
  },
  {
   "cell_type": "code",
   "execution_count": 11,
   "metadata": {},
   "outputs": [
    {
     "data": {
      "text/plain": [
       "(30, 30, 30)"
      ]
     },
     "execution_count": 11,
     "metadata": {},
     "output_type": "execute_result"
    }
   ],
   "source": [
    "len(ques[\"Physics\"]),len(ques[\"Chemistry\"]),len(ques[\"Biology\"])"
   ]
  },
  {
   "cell_type": "code",
   "execution_count": 12,
   "metadata": {},
   "outputs": [],
   "source": [
    "p= [\n",
    "  \"a\",\n",
    "  \"c\",\n",
    "  \"b\",\n",
    "  \"b\",\n",
    "  \"b\",\n",
    "  \"a\",\n",
    "  \"b\",\n",
    "  \"c\",\n",
    "  \"a\",\n",
    "  \"d\",\n",
    "  \"a\",\n",
    "  \"b\",\n",
    "  \"b\",\n",
    "  \"c\",\n",
    "  \"c\",\n",
    "  \"c\",\n",
    "  \"d\",\n",
    "  \"b\",\n",
    "  \"c\",\n",
    "  \"b\",\n",
    "  \"a\",\n",
    "  \"a\",\n",
    "  \"b\",\n",
    "  \"b\",\n",
    "  \"c\",\n",
    "  \"d\",\n",
    "  \"c\",\n",
    "  \"b\",\n",
    "  \"d\",\n",
    "  \"c\"\n",
    "]"
   ]
  },
  {
   "cell_type": "code",
   "execution_count": 13,
   "metadata": {},
   "outputs": [],
   "source": [
    "c = [\n",
    "  \"b\",\n",
    "  \"b\",\n",
    "  \"b\",\n",
    "  \"b\",\n",
    "  \"d\",\n",
    "  \"b\",\n",
    "  \"b\",\n",
    "  \"c\",\n",
    "  \"a\",\n",
    "  \"b\",\n",
    "  \"d\",\n",
    "  \"a\",\n",
    "  \"d\",\n",
    "  \"c\",\n",
    "  \"a\",\n",
    "  \"c\",\n",
    "  \"c\",\n",
    "  \"c\",\n",
    "  \"a\",\n",
    "  \"c\",\n",
    "  \"d\",\n",
    "  \"d\",\n",
    "  \"c\",\n",
    "  \"c\",\n",
    "  \"d\",\n",
    "  \"b\",\n",
    "  \"b\",\n",
    "  \"c\",\n",
    "  \"b\",\n",
    "  \"a\"\n",
    "]"
   ]
  },
  {
   "cell_type": "code",
   "execution_count": 14,
   "metadata": {},
   "outputs": [],
   "source": [
    "b = [\n",
    "  \"c\",\n",
    "  \"b\",\n",
    "  \"d\",\n",
    "  \"d\",\n",
    "  \"c\",\n",
    "  \"a\",\n",
    "  \"b\",\n",
    "  \"a\",\n",
    "  \"c\",\n",
    "  \"b\",\n",
    "  \"a\",\n",
    "  \"b\",\n",
    "  \"d\",\n",
    "  \"b\",\n",
    "  \"b\",\n",
    "  \"c\",\n",
    "  \"d\",\n",
    "  \"d\",\n",
    "  \"c\",\n",
    "  \"b\",\n",
    "  \"d\",\n",
    "  \"c\",\n",
    "  \"b\",\n",
    "  \"d\",\n",
    "  \"a\",\n",
    "  \"c\",\n",
    "  \"d\",\n",
    "  \"a\",\n",
    "  \"a\",\n",
    "  \"a\"\n",
    "]"
   ]
  },
  {
   "cell_type": "code",
   "execution_count": 15,
   "metadata": {},
   "outputs": [
    {
     "data": {
      "text/plain": [
       "(30, 30)"
      ]
     },
     "execution_count": 15,
     "metadata": {},
     "output_type": "execute_result"
    }
   ],
   "source": [
    "len(ques[\"Physics\"]), len(p)"
   ]
  },
  {
   "cell_type": "code",
   "execution_count": 16,
   "metadata": {},
   "outputs": [
    {
     "data": {
      "text/plain": [
       "'{\"1646\":{\"answer\":\"a\",\"time\":52},\"1243\":{\"answer\":\"c\",\"time\":36},\"1153\":{\"answer\":\"b\",\"time\":148},\"1364\":{\"answer\":\"b\",\"time\":61},\"1427\":{\"answer\":\"b\",\"time\":72},\"1452\":{\"answer\":\"a\",\"time\":82},\"602\":{\"answer\":\"b\",\"time\":40},\"1579\":{\"answer\":\"c\",\"time\":104},\"793\":{\"answer\":\"a\",\"time\":119},\"1467\":{\"answer\":\"d\",\"time\":36},\"81\":{\"answer\":\"a\",\"time\":121},\"1296\":{\"answer\":\"b\",\"time\":130},\"1162\":{\"answer\":\"b\",\"time\":42},\"791\":{\"answer\":\"c\",\"time\":79},\"61\":{\"answer\":\"c\",\"time\":124},\"418\":{\"answer\":\"c\",\"time\":138},\"710\":{\"answer\":\"d\",\"time\":100},\"261\":{\"answer\":\"b\",\"time\":112},\"767\":{\"answer\":\"c\",\"time\":92},\"1291\":{\"answer\":\"b\",\"time\":32},\"586\":{\"answer\":\"a\",\"time\":91},\"1194\":{\"answer\":\"a\",\"time\":74},\"322\":{\"answer\":\"b\",\"time\":147},\"828\":{\"answer\":\"b\",\"time\":128},\"1577\":{\"answer\":\"c\",\"time\":133},\"1356\":{\"answer\":\"d\",\"time\":125},\"55\":{\"answer\":\"c\",\"time\":137},\"240\":{\"answer\":\"b\",\"time\":61},\"343\":{\"answer\":\"d\",\"time\":149},\"1019\":{\"answer\":\"c\",\"time\":114}}'"
      ]
     },
     "execution_count": 16,
     "metadata": {},
     "output_type": "execute_result"
    }
   ],
   "source": [
    "answer_format(ques[\"Physics\"],p)"
   ]
  },
  {
   "cell_type": "code",
   "execution_count": 17,
   "metadata": {},
   "outputs": [
    {
     "data": {
      "text/plain": [
       "'{\"2271\":{\"answer\":\"b\",\"time\":44},\"2596\":{\"answer\":\"b\",\"time\":93},\"2337\":{\"answer\":\"b\",\"time\":47},\"2990\":{\"answer\":\"b\",\"time\":80},\"3085\":{\"answer\":\"d\",\"time\":57},\"2293\":{\"answer\":\"b\",\"time\":107},\"3234\":{\"answer\":\"b\",\"time\":58},\"2400\":{\"answer\":\"c\",\"time\":141},\"1847\":{\"answer\":\"a\",\"time\":68},\"2181\":{\"answer\":\"b\",\"time\":146},\"2677\":{\"answer\":\"d\",\"time\":36},\"2909\":{\"answer\":\"a\",\"time\":52},\"2886\":{\"answer\":\"d\",\"time\":113},\"2106\":{\"answer\":\"c\",\"time\":97},\"2674\":{\"answer\":\"a\",\"time\":121},\"2223\":{\"answer\":\"c\",\"time\":115},\"3297\":{\"answer\":\"c\",\"time\":41},\"2389\":{\"answer\":\"c\",\"time\":139},\"1983\":{\"answer\":\"a\",\"time\":107},\"3375\":{\"answer\":\"c\",\"time\":117},\"2760\":{\"answer\":\"d\",\"time\":130},\"1858\":{\"answer\":\"d\",\"time\":129},\"2230\":{\"answer\":\"c\",\"time\":79},\"3325\":{\"answer\":\"c\",\"time\":93},\"3392\":{\"answer\":\"d\",\"time\":31},\"2895\":{\"answer\":\"b\",\"time\":74},\"2858\":{\"answer\":\"b\",\"time\":66},\"2356\":{\"answer\":\"c\",\"time\":134},\"3046\":{\"answer\":\"b\",\"time\":40},\"1863\":{\"answer\":\"a\",\"time\":97}}'"
      ]
     },
     "execution_count": 17,
     "metadata": {},
     "output_type": "execute_result"
    }
   ],
   "source": [
    "answer_format(ques[\"Chemistry\"],c)"
   ]
  },
  {
   "cell_type": "code",
   "execution_count": 18,
   "metadata": {},
   "outputs": [
    {
     "data": {
      "text/plain": [
       "'{\"4346\":{\"answer\":\"c\",\"time\":57},\"5747\":{\"answer\":\"b\",\"time\":67},\"6825\":{\"answer\":\"d\",\"time\":57},\"4264\":{\"answer\":\"d\",\"time\":51},\"6241\":{\"answer\":\"c\",\"time\":60},\"4482\":{\"answer\":\"a\",\"time\":48},\"6273\":{\"answer\":\"b\",\"time\":117},\"5768\":{\"answer\":\"a\",\"time\":90},\"4703\":{\"answer\":\"c\",\"time\":82},\"6820\":{\"answer\":\"b\",\"time\":107},\"4187\":{\"answer\":\"a\",\"time\":127},\"6578\":{\"answer\":\"b\",\"time\":68},\"4367\":{\"answer\":\"d\",\"time\":36},\"5648\":{\"answer\":\"b\",\"time\":75},\"5860\":{\"answer\":\"b\",\"time\":34},\"3469\":{\"answer\":\"c\",\"time\":65},\"4761\":{\"answer\":\"d\",\"time\":73},\"3537\":{\"answer\":\"d\",\"time\":146},\"5377\":{\"answer\":\"c\",\"time\":51},\"4418\":{\"answer\":\"b\",\"time\":105},\"6258\":{\"answer\":\"d\",\"time\":42},\"6727\":{\"answer\":\"c\",\"time\":143},\"5759\":{\"answer\":\"b\",\"time\":148},\"4017\":{\"answer\":\"d\",\"time\":60},\"3614\":{\"answer\":\"a\",\"time\":141},\"4651\":{\"answer\":\"c\",\"time\":123},\"3561\":{\"answer\":\"d\",\"time\":69},\"4443\":{\"answer\":\"a\",\"time\":67},\"3548\":{\"answer\":\"a\",\"time\":64},\"4605\":{\"answer\":\"a\",\"time\":62}}'"
      ]
     },
     "execution_count": 18,
     "metadata": {},
     "output_type": "execute_result"
    }
   ],
   "source": [
    "answer_format(ques[\"Biology\"],b)"
   ]
  },
  {
   "cell_type": "code",
   "execution_count": null,
   "metadata": {},
   "outputs": [],
   "source": []
  }
 ],
 "metadata": {
  "kernelspec": {
   "display_name": "Python 3",
   "language": "python",
   "name": "python3"
  },
  "language_info": {
   "codemirror_mode": {
    "name": "ipython",
    "version": 3
   },
   "file_extension": ".py",
   "mimetype": "text/x-python",
   "name": "python",
   "nbconvert_exporter": "python",
   "pygments_lexer": "ipython3",
   "version": "3.11.4"
  }
 },
 "nbformat": 4,
 "nbformat_minor": 2
}
