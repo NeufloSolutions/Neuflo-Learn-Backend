{
 "cells": [
  {
   "cell_type": "code",
   "execution_count": 8,
   "metadata": {},
   "outputs": [],
   "source": [
    "import os\n",
    "import fnmatch\n",
    "\n",
    "def print_files_in_directory(root_dir, exclude_dirs):\n",
    "    for root, dirs, files in os.walk(root_dir):\n",
    "        # Exclude specific directories\n",
    "        dirs[:] = [d for d in dirs if not any(fnmatch.fnmatch(d, pattern) for pattern in exclude_dirs)]\n",
    "\n",
    "        for file in files:\n",
    "            print(os.path.join(root, file))"
   ]
  },
  {
   "cell_type": "code",
   "execution_count": 9,
   "metadata": {},
   "outputs": [
    {
     "name": "stdout",
     "output_type": "stream",
     "text": [
      "./.dockerignore\n",
      "./.gitignore\n",
      "./docker-compose.debug.yml\n",
      "./docker-compose.yml\n",
      "./Dockerfile\n",
      "./notebook.ipynb\n",
      "./query.txt\n",
      "./README.md\n",
      "./redis.conf\n",
      "./requirements.txt\n",
      "./Script.sql\n",
      "./service.py\n",
      "./start.sh\n",
      "./test.py\n",
      "./Backend/__init__.py\n",
      "./Backend/dbconfig/cache_management.py\n",
      "./Backend/dbconfig/config.py\n",
      "./Backend/dbconfig/db_connection.py\n",
      "./Backend/mock/ChapterWeightage.xlsx\n",
      "./Backend/mock/chapter_weightage_management.py\n",
      "./Backend/mock/mock_test_configuration_management.py\n",
      "./Backend/mock/mock_test_management.py\n",
      "./Backend/mock/student_mock_test_history_management.py\n",
      "./Backend/practice/answer_retrieval.py\n",
      "./Backend/practice/practice_test_management.py\n",
      "./Backend/testmanagement/question_management.py\n",
      "./Backend/testmanagement/student_proficiency.py\n",
      "./Backend/testmanagement/test_result_calculation.py\n",
      "./Backend/__pycache__/backend.cpython-311.pyc\n",
      "./Backend/__pycache__/config.cpython-311.pyc\n",
      "./frontend/functions.py\n",
      "./frontend/main.py\n"
     ]
    }
   ],
   "source": [
    "# Usage \n",
    "exclude_dirs = ['Question Database', '.devcontainer','.git']\n",
    "root_directory = './'  # Replace with your directory path\n",
    "print_files_in_directory(root_directory, exclude_dirs)"
   ]
  },
  {
   "cell_type": "code",
   "execution_count": 9,
   "metadata": {},
   "outputs": [],
   "source": [
    "import random\n",
    "import json\n",
    "\n",
    "def answer_format(keys_list, n):\n",
    "    data = {}\n",
    "    for key, ans in zip(keys_list, n):\n",
    "        time = random.randint(30, 150)  # Generate a random time between 30 and 150\n",
    "        data[str(key)] = {\"answer\": ans, \"time\": time}\n",
    "\n",
    "    # Convert dictionary to JSON string\n",
    "    json_data = json.dumps(data, separators=(',', ':'))\n",
    "\n",
    "    return json_data"
   ]
  },
  {
   "cell_type": "code",
   "execution_count": 10,
   "metadata": {},
   "outputs": [],
   "source": [
    "ques = {\n",
    "  \"Physics\": [\n",
    "    1646,\n",
    "    1243,\n",
    "    1153,\n",
    "    1364,\n",
    "    1427,\n",
    "    1452,\n",
    "    602,\n",
    "    1579,\n",
    "    793,\n",
    "    1467,\n",
    "    81,\n",
    "    1296,\n",
    "    1162,\n",
    "    791,\n",
    "    61,\n",
    "    418,\n",
    "    710,\n",
    "    261,\n",
    "    767,\n",
    "    1291,\n",
    "    586,\n",
    "    1194,\n",
    "    322,\n",
    "    828,\n",
    "    1577,\n",
    "    1356,\n",
    "    55,\n",
    "    240,\n",
    "    343,\n",
    "    1019\n",
    "  ],\n",
    "  \"Chemistry\": [\n",
    "    2271,\n",
    "    2596,\n",
    "    2337,\n",
    "    2990,\n",
    "    3085,\n",
    "    2293,\n",
    "    3234,\n",
    "    2400,\n",
    "    1847,\n",
    "    2181,\n",
    "    2677,\n",
    "    2909,\n",
    "    2886,\n",
    "    2106,\n",
    "    2674,\n",
    "    2223,\n",
    "    3297,\n",
    "    2389,\n",
    "    1983,\n",
    "    3375,\n",
    "    2760,\n",
    "    1858,\n",
    "    2230,\n",
    "    3325,\n",
    "    3392,\n",
    "    2895,\n",
    "    2858,\n",
    "    2356,\n",
    "    3046,\n",
    "    1863\n",
    "  ],\n",
    "  \"Biology\": [\n",
    "    4346,\n",
    "    5747,\n",
    "    6825,\n",
    "    4264,\n",
    "    6241,\n",
    "    4482,\n",
    "    6273,\n",
    "    5768,\n",
    "    4703,\n",
    "    6820,\n",
    "    4187,\n",
    "    6578,\n",
    "    4367,\n",
    "    5648,\n",
    "    5860,\n",
    "    3469,\n",
    "    4761,\n",
    "    3537,\n",
    "    5377,\n",
    "    4418,\n",
    "    6258,\n",
    "    6727,\n",
    "    5759,\n",
    "    4017,\n",
    "    3614,\n",
    "    4651,\n",
    "    3561,\n",
    "    4443,\n",
    "    3548,\n",
    "    4605\n",
    "  ]\n",
    "}"
   ]
  },
  {
   "cell_type": "code",
   "execution_count": 11,
   "metadata": {},
   "outputs": [
    {
     "data": {
      "text/plain": [
       "(30, 30, 30)"
      ]
     },
     "execution_count": 11,
     "metadata": {},
     "output_type": "execute_result"
    }
   ],
   "source": [
    "len(ques[\"Physics\"]),len(ques[\"Chemistry\"]),len(ques[\"Biology\"])"
   ]
  },
  {
   "cell_type": "code",
   "execution_count": 12,
   "metadata": {},
   "outputs": [],
   "source": [
    "p= [\n",
    "  \"a\",\n",
    "  \"c\",\n",
    "  \"b\",\n",
    "  \"b\",\n",
    "  \"b\",\n",
    "  \"a\",\n",
    "  \"b\",\n",
    "  \"c\",\n",
    "  \"a\",\n",
    "  \"d\",\n",
    "  \"a\",\n",
    "  \"b\",\n",
    "  \"b\",\n",
    "  \"c\",\n",
    "  \"c\",\n",
    "  \"c\",\n",
    "  \"d\",\n",
    "  \"b\",\n",
    "  \"c\",\n",
    "  \"b\",\n",
    "  \"a\",\n",
    "  \"a\",\n",
    "  \"b\",\n",
    "  \"b\",\n",
    "  \"c\",\n",
    "  \"d\",\n",
    "  \"c\",\n",
    "  \"b\",\n",
    "  \"d\",\n",
    "  \"c\"\n",
    "]"
   ]
  },
  {
   "cell_type": "code",
   "execution_count": 13,
   "metadata": {},
   "outputs": [],
   "source": [
    "c = [\n",
    "  \"b\",\n",
    "  \"b\",\n",
    "  \"b\",\n",
    "  \"b\",\n",
    "  \"d\",\n",
    "  \"b\",\n",
    "  \"b\",\n",
    "  \"c\",\n",
    "  \"a\",\n",
    "  \"b\",\n",
    "  \"d\",\n",
    "  \"a\",\n",
    "  \"d\",\n",
    "  \"c\",\n",
    "  \"a\",\n",
    "  \"c\",\n",
    "  \"c\",\n",
    "  \"c\",\n",
    "  \"a\",\n",
    "  \"c\",\n",
    "  \"d\",\n",
    "  \"d\",\n",
    "  \"c\",\n",
    "  \"c\",\n",
    "  \"d\",\n",
    "  \"b\",\n",
    "  \"b\",\n",
    "  \"c\",\n",
    "  \"b\",\n",
    "  \"a\"\n",
    "]"
   ]
  },
  {
   "cell_type": "code",
   "execution_count": 14,
   "metadata": {},
   "outputs": [],
   "source": [
    "b = [\n",
    "  \"c\",\n",
    "  \"b\",\n",
    "  \"d\",\n",
    "  \"d\",\n",
    "  \"c\",\n",
    "  \"a\",\n",
    "  \"b\",\n",
    "  \"a\",\n",
    "  \"c\",\n",
    "  \"b\",\n",
    "  \"a\",\n",
    "  \"b\",\n",
    "  \"d\",\n",
    "  \"b\",\n",
    "  \"b\",\n",
    "  \"c\",\n",
    "  \"d\",\n",
    "  \"d\",\n",
    "  \"c\",\n",
    "  \"b\",\n",
    "  \"d\",\n",
    "  \"c\",\n",
    "  \"b\",\n",
    "  \"d\",\n",
    "  \"a\",\n",
    "  \"c\",\n",
    "  \"d\",\n",
    "  \"a\",\n",
    "  \"a\",\n",
    "  \"a\"\n",
    "]"
   ]
  },
  {
   "cell_type": "code",
   "execution_count": 15,
   "metadata": {},
   "outputs": [
    {
     "data": {
      "text/plain": [
       "(30, 30)"
      ]
     },
     "execution_count": 15,
     "metadata": {},
     "output_type": "execute_result"
    }
   ],
   "source": [
    "len(ques[\"Physics\"]), len(p)"
   ]
  },
  {
   "cell_type": "code",
   "execution_count": 16,
   "metadata": {},
   "outputs": [
    {
     "data": {
      "text/plain": [
       "'{\"1646\":{\"answer\":\"a\",\"time\":52},\"1243\":{\"answer\":\"c\",\"time\":36},\"1153\":{\"answer\":\"b\",\"time\":148},\"1364\":{\"answer\":\"b\",\"time\":61},\"1427\":{\"answer\":\"b\",\"time\":72},\"1452\":{\"answer\":\"a\",\"time\":82},\"602\":{\"answer\":\"b\",\"time\":40},\"1579\":{\"answer\":\"c\",\"time\":104},\"793\":{\"answer\":\"a\",\"time\":119},\"1467\":{\"answer\":\"d\",\"time\":36},\"81\":{\"answer\":\"a\",\"time\":121},\"1296\":{\"answer\":\"b\",\"time\":130},\"1162\":{\"answer\":\"b\",\"time\":42},\"791\":{\"answer\":\"c\",\"time\":79},\"61\":{\"answer\":\"c\",\"time\":124},\"418\":{\"answer\":\"c\",\"time\":138},\"710\":{\"answer\":\"d\",\"time\":100},\"261\":{\"answer\":\"b\",\"time\":112},\"767\":{\"answer\":\"c\",\"time\":92},\"1291\":{\"answer\":\"b\",\"time\":32},\"586\":{\"answer\":\"a\",\"time\":91},\"1194\":{\"answer\":\"a\",\"time\":74},\"322\":{\"answer\":\"b\",\"time\":147},\"828\":{\"answer\":\"b\",\"time\":128},\"1577\":{\"answer\":\"c\",\"time\":133},\"1356\":{\"answer\":\"d\",\"time\":125},\"55\":{\"answer\":\"c\",\"time\":137},\"240\":{\"answer\":\"b\",\"time\":61},\"343\":{\"answer\":\"d\",\"time\":149},\"1019\":{\"answer\":\"c\",\"time\":114}}'"
      ]
     },
     "execution_count": 16,
     "metadata": {},
     "output_type": "execute_result"
    }
   ],
   "source": [
    "answer_format(ques[\"Physics\"],p)"
   ]
  },
  {
   "cell_type": "code",
   "execution_count": 17,
   "metadata": {},
   "outputs": [
    {
     "data": {
      "text/plain": [
       "'{\"2271\":{\"answer\":\"b\",\"time\":44},\"2596\":{\"answer\":\"b\",\"time\":93},\"2337\":{\"answer\":\"b\",\"time\":47},\"2990\":{\"answer\":\"b\",\"time\":80},\"3085\":{\"answer\":\"d\",\"time\":57},\"2293\":{\"answer\":\"b\",\"time\":107},\"3234\":{\"answer\":\"b\",\"time\":58},\"2400\":{\"answer\":\"c\",\"time\":141},\"1847\":{\"answer\":\"a\",\"time\":68},\"2181\":{\"answer\":\"b\",\"time\":146},\"2677\":{\"answer\":\"d\",\"time\":36},\"2909\":{\"answer\":\"a\",\"time\":52},\"2886\":{\"answer\":\"d\",\"time\":113},\"2106\":{\"answer\":\"c\",\"time\":97},\"2674\":{\"answer\":\"a\",\"time\":121},\"2223\":{\"answer\":\"c\",\"time\":115},\"3297\":{\"answer\":\"c\",\"time\":41},\"2389\":{\"answer\":\"c\",\"time\":139},\"1983\":{\"answer\":\"a\",\"time\":107},\"3375\":{\"answer\":\"c\",\"time\":117},\"2760\":{\"answer\":\"d\",\"time\":130},\"1858\":{\"answer\":\"d\",\"time\":129},\"2230\":{\"answer\":\"c\",\"time\":79},\"3325\":{\"answer\":\"c\",\"time\":93},\"3392\":{\"answer\":\"d\",\"time\":31},\"2895\":{\"answer\":\"b\",\"time\":74},\"2858\":{\"answer\":\"b\",\"time\":66},\"2356\":{\"answer\":\"c\",\"time\":134},\"3046\":{\"answer\":\"b\",\"time\":40},\"1863\":{\"answer\":\"a\",\"time\":97}}'"
      ]
     },
     "execution_count": 17,
     "metadata": {},
     "output_type": "execute_result"
    }
   ],
   "source": [
    "answer_format(ques[\"Chemistry\"],c)"
   ]
  },
  {
   "cell_type": "code",
   "execution_count": 18,
   "metadata": {},
   "outputs": [
    {
     "data": {
      "text/plain": [
       "'{\"4346\":{\"answer\":\"c\",\"time\":57},\"5747\":{\"answer\":\"b\",\"time\":67},\"6825\":{\"answer\":\"d\",\"time\":57},\"4264\":{\"answer\":\"d\",\"time\":51},\"6241\":{\"answer\":\"c\",\"time\":60},\"4482\":{\"answer\":\"a\",\"time\":48},\"6273\":{\"answer\":\"b\",\"time\":117},\"5768\":{\"answer\":\"a\",\"time\":90},\"4703\":{\"answer\":\"c\",\"time\":82},\"6820\":{\"answer\":\"b\",\"time\":107},\"4187\":{\"answer\":\"a\",\"time\":127},\"6578\":{\"answer\":\"b\",\"time\":68},\"4367\":{\"answer\":\"d\",\"time\":36},\"5648\":{\"answer\":\"b\",\"time\":75},\"5860\":{\"answer\":\"b\",\"time\":34},\"3469\":{\"answer\":\"c\",\"time\":65},\"4761\":{\"answer\":\"d\",\"time\":73},\"3537\":{\"answer\":\"d\",\"time\":146},\"5377\":{\"answer\":\"c\",\"time\":51},\"4418\":{\"answer\":\"b\",\"time\":105},\"6258\":{\"answer\":\"d\",\"time\":42},\"6727\":{\"answer\":\"c\",\"time\":143},\"5759\":{\"answer\":\"b\",\"time\":148},\"4017\":{\"answer\":\"d\",\"time\":60},\"3614\":{\"answer\":\"a\",\"time\":141},\"4651\":{\"answer\":\"c\",\"time\":123},\"3561\":{\"answer\":\"d\",\"time\":69},\"4443\":{\"answer\":\"a\",\"time\":67},\"3548\":{\"answer\":\"a\",\"time\":64},\"4605\":{\"answer\":\"a\",\"time\":62}}'"
      ]
     },
     "execution_count": 18,
     "metadata": {},
     "output_type": "execute_result"
    }
   ],
   "source": [
    "answer_format(ques[\"Biology\"],b)"
   ]
  },
  {
   "cell_type": "code",
   "execution_count": null,
   "metadata": {},
   "outputs": [],
   "source": [
    "d ={\"answers\":{\"0_SectionA_37\":{\"answer\":\"d\",\"time\":58},\"0_SectionA_44\":{\"answer\":\"c\",\"time\":68},\"0_SectionA_75\":{\"answer\":\"c\",\"time\":83},\"0_SectionA_214\":{\"answer\":\"b\",\"time\":99},\"0_SectionB_247\":{\"answer\":\"b\",\"time\":95},\"0_SectionA_272\":{\"answer\":\"a\",\"time\":61},\"0_SectionB_309\":{\"answer\":\"d\",\"time\":69},\"0_SectionA_338\":{\"answer\":\"b\",\"time\":97},\"0_SectionA_363\":{\"answer\":\"c\",\"time\":83},\"0_SectionA_404\":{\"answer\":\"a\",\"time\":32},\"0_SectionA_555\":{\"answer\":\"a\",\"time\":82},\"0_SectionA_569\":{\"answer\":\"b\",\"time\":67},\"0_SectionA_585\":{\"answer\":\"a\",\"time\":90},\"0_SectionA_594\":{\"answer\":\"b\",\"time\":97},\"0_SectionA_595\":{\"answer\":\"d\",\"time\":68},\"0_SectionB_665\":{\"answer\":\"a\",\"time\":87},\"0_SectionA_701\":{\"answer\":\"c\",\"time\":55},\"0_SectionA_795\":{\"answer\":\"c\",\"time\":62},\"0_SectionA_935\":{\"answer\":\"a\",\"time\":51},\"0_SectionA_879\":{\"answer\":\"c\",\"time\":62},\"0_SectionB_886\":{\"answer\":\"a\",\"time\":96},\"0_SectionA_941\":{\"answer\":\"b\",\"time\":91},\"0_SectionA_969\":{\"answer\":\"b\",\"time\":92},\"0_SectionB_972\":{\"answer\":\"a\",\"time\":97},\"0_SectionA_1002\":{\"answer\":\"b\",\"time\":60},\"0_SectionB_1179\":{\"answer\":\"d\",\"time\":75},\"0_SectionB_1242\":{\"answer\":\"b\",\"time\":100},\"0_SectionB_1255\":{\"answer\":\"c\",\"time\":79},\"0_SectionA_1317\":{\"answer\":\"c\",\"time\":65},\"0_SectionB_1362\":{\"answer\":\"b\",\"time\":80},\"0_SectionA_1377\":{\"answer\":\"b\",\"time\":89},\"0_SectionA_1411\":{\"answer\":\"b\",\"time\":45},\"0_SectionA_1427\":{\"answer\":\"b\",\"time\":58},\"0_SectionB_1451\":{\"answer\":\"c\",\"time\":84},\"0_SectionA_1473\":{\"answer\":\"a\",\"time\":48},\"0_SectionA_1488\":{\"answer\":\"d\",\"time\":59},\"0_SectionB_1501\":{\"answer\":\"d\",\"time\":32},\"0_SectionB_1516\":{\"answer\":\"a\",\"time\":54},\"0_SectionA_1541\":{\"answer\":\"d\",\"time\":93},\"0_SectionA_1544\":{\"answer\":\"b\",\"time\":70},\"0_SectionA_1608\":{\"answer\":\"a\",\"time\":90},\"0_SectionB_1643\":{\"answer\":\"s\",\"time\":96},\"1_SectionB_1687\":{\"answer\":\"b\",\"time\":31},\"1_SectionA_1689\":{\"answer\":\"b\",\"time\":79},\"1_SectionA_1694\":{\"answer\":\"a\",\"time\":44},\"1_SectionA_1751\":{\"answer\":\"a\",\"time\":64},\"1_SectionA_1903\":{\"answer\":\"c\",\"time\":61},\"1_SectionB_1907\":{\"answer\":\"a\",\"time\":56},\"1_SectionA_1909\":{\"answer\":\"a\",\"time\":99},\"1_SectionA_1991\":{\"answer\":\"c\",\"time\":49},\"1_SectionA_2008\":{\"answer\":\"c\",\"time\":40},\"1_SectionA_2061\":{\"answer\":\"a\",\"time\":79},\"1_SectionA_2062\":{\"answer\":\"c\",\"time\":88},\"1_SectionB_2088\":{\"answer\":\"c\",\"time\":37},\"1_SectionB_2113\":{\"answer\":\"c\",\"time\":57},\"1_SectionA_2162\":{\"answer\":\"a\",\"time\":91},\"1_SectionA_2184\":{\"answer\":\"b\",\"time\":73},\"1_SectionA_2185\":{\"answer\":\"c\",\"time\":89},\"1_SectionB_2285\":{\"answer\":\"c\",\"time\":96},\"1_SectionB_2342\":{\"answer\":\"d\",\"time\":64},\"1_SectionA_2393\":{\"answer\":\"b\",\"time\":96},\"1_SectionA_2506\":{\"answer\":\"d\",\"time\":74},\"1_SectionB_2556\":{\"answer\":\"a\",\"time\":52},\"1_SectionB_2562\":{\"answer\":\"b\",\"time\":71},\"1_SectionA_2576\":{\"answer\":\"b\",\"time\":38},\"1_SectionA_2619\":{\"answer\":\"a\",\"time\":42},\"1_SectionA_2720\":{\"answer\":\"b\",\"time\":51},\"1_SectionA_2802\":{\"answer\":\"b\",\"time\":58},\"1_SectionA_2872\":{\"answer\":\"c\",\"time\":71},\"1_SectionB_2893\":{\"answer\":\"d\",\"time\":74},\"1_SectionA_2931\":{\"answer\":\"b\",\"time\":59},\"1_SectionB_2952\":{\"answer\":\"c\",\"time\":61},\"1_SectionA_2992\":{\"answer\":\"b\",\"time\":64},\"1_SectionB_3357\":{\"answer\":\"b\",\"time\":96},\"1_SectionA_3365\":{\"answer\":\"a\",\"time\":84},\"2_SectionB_3519\":{\"answer\":\"b\",\"time\":40},\"2_SectionA_3525\":{\"answer\":\"a\",\"time\":70},\"2_SectionA_3527\":{\"answer\":\"b\",\"time\":98},\"2_SectionB_3563\":{\"answer\":\"b\",\"time\":45},\"2_SectionA_3623\":{\"answer\":\"c\",\"time\":100},\"2_SectionA_3627\":{\"answer\":\"a\",\"time\":76},\"2_SectionA_3681\":{\"answer\":\"b\",\"time\":80},\"2_SectionB_3687\":{\"answer\":\"c\",\"time\":75},\"2_SectionA_3745\":{\"answer\":\"c\",\"time\":51},\"2_SectionA_3746\":{\"answer\":\"a\",\"time\":36},\"3_SectionA_3752\":{\"answer\":\"a\",\"time\":45},\"3_SectionA_3766\":{\"answer\":\"b\",\"time\":92},\"3_SectionA_3771\":{\"answer\":\"a\",\"time\":35},\"3_SectionA_3803\":{\"answer\":\"c\",\"time\":76},\"3_SectionA_3812\":{\"answer\":\"d\",\"time\":43},\"3_SectionB_3825\":{\"answer\":\"b\",\"time\":63},\"3_SectionA_3830\":{\"answer\":\"d\",\"time\":82},\"3_SectionB_3835\":{\"answer\":\"a\",\"time\":83},\"3_SectionB_3851\":{\"answer\":\"a\",\"time\":37},\"3_SectionA_3877\":{\"answer\":\"d\",\"time\":86},\"3_SectionB_3882\":{\"answer\":\"b\",\"time\":95},\"2_SectionA_4035\":{\"answer\":\"d\",\"time\":88},\"3_SectionA_4123\":{\"answer\":\"d\",\"time\":84},\"2_SectionB_4204\":{\"answer\":\"c\",\"time\":56},\"2_SectionB_4205\":{\"answer\":\"b\",\"time\":95},\"2_SectionA_4207\":{\"answer\":\"a\",\"time\":49},\"2_SectionB_4219\":{\"answer\":\"c\",\"time\":95},\"2_SectionA_4269\":{\"answer\":\"c\",\"time\":81},\"2_SectionB_4274\":{\"answer\":\"d\",\"time\":54},\"2_SectionA_4313\":{\"answer\":\"b\",\"time\":59},\"2_SectionB_4332\":{\"answer\":\"a\",\"time\":48},\"2_SectionA_4352\":{\"answer\":\"c\",\"time\":39},\"2_SectionA_4390\":{\"answer\":\"b\",\"time\":48},\"2_SectionA_4402\":{\"answer\":\"b\",\"time\":36},\"2_SectionA_4489\":{\"answer\":\"d\",\"time\":42},\"2_SectionA_4678\":{\"answer\":\"b\",\"time\":96},\"3_SectionA_4800\":{\"answer\":\"c\",\"time\":48},\"3_SectionA_4813\":{\"answer\":\"d\",\"time\":41},\"3_SectionA_4820\":{\"answer\":\"b\",\"time\":95},\"3_SectionA_4821\":{\"answer\":\"d\",\"time\":76},\"3_SectionB_4955\":{\"answer\":\"a\",\"time\":85},\"3_SectionA_5008\":{\"answer\":\"b\",\"time\":76},\"3_SectionB_5050\":{\"answer\":\"b\",\"time\":38},\"3_SectionA_5094\":{\"answer\":\"d\",\"time\":45},\"3_SectionB_5209\":{\"answer\":\"b\",\"time\":49},\"3_SectionB_5213\":{\"answer\":\"a\",\"time\":51},\"3_SectionA_5277\":{\"answer\":\"b\",\"time\":49},\"3_SectionA_5318\":{\"answer\":\"a\",\"time\":32},\"2_SectionA_5361\":{\"answer\":\"b\",\"time\":80},\"2_SectionA_5427\":{\"answer\":\"a\",\"time\":42},\"2_SectionB_5437\":{\"answer\":\"d\",\"time\":80},\"3_SectionA_5461\":{\"answer\":\"c\",\"time\":51},\"3_SectionA_5476\":{\"answer\":\"c\",\"time\":31},\"3_SectionB_5488\":{\"answer\":\"b\",\"time\":55},\"3_SectionB_5520\":{\"answer\":\"c\",\"time\":33},\"2_SectionA_5600\":{\"answer\":\"a\",\"time\":81},\"2_SectionA_5610\":{\"answer\":\"b\",\"time\":36},\"2_SectionA_5653\":{\"answer\":\"a\",\"time\":70},\"2_SectionA_5706\":{\"answer\":\"d\",\"time\":31},\"2_SectionA_5736\":{\"answer\":\"d\",\"time\":91},\"2_SectionA_5743\":{\"answer\":\"b\",\"time\":87},\"2_SectionA_5772\":{\"answer\":\"d\",\"time\":92},\"2_SectionA_5807\":{\"answer\":\"c\",\"time\":56},\"2_SectionA_5859\":{\"answer\":\"a\",\"time\":41},\"2_SectionA_5904\":{\"answer\":\"c\",\"time\":94},\"2_SectionA_5925\":{\"answer\":\"b\",\"time\":84},\"2_SectionB_5942\":{\"answer\":\"c\",\"time\":86},\"3_SectionA_5966\":{\"answer\":\"b\",\"time\":43},\"3_SectionA_5972\":{\"answer\":\"a\",\"time\":63},\"3_SectionA_6055\":{\"answer\":\"c\",\"time\":71},\"3_SectionB_6072\":{\"answer\":\"d\",\"time\":52},\"3_SectionA_6083\":{\"answer\":\"a\",\"time\":31},\"3_SectionA_6088\":{\"answer\":\"c\",\"time\":43},\"3_SectionA_6111\":{\"answer\":\"a\",\"time\":89},\"3_SectionA_6122\":{\"answer\":\"b\",\"time\":34},\"3_SectionA_6123\":{\"answer\":\"c\",\"time\":93},\"3_SectionA_6140\":{\"answer\":\"b\",\"time\":36},\"3_SectionB_6149\":{\"answer\":\"d\",\"time\":67},\"3_SectionA_6165\":{\"answer\":\"a\",\"time\":72},\"3_SectionA_6213\":{\"answer\":\"a\",\"time\":88},\"3_SectionA_6325\":{\"answer\":\"c\",\"time\":99},\"3_SectionA_6355\":{\"answer\":\"b\",\"time\":42},\"3_SectionA_6357\":{\"answer\":\"a\",\"time\":91},\"2_SectionA_6402\":{\"answer\":\"c\",\"time\":46},\"2_SectionB_6540\":{\"answer\":\"d\",\"time\":43},\"2_SectionA_6566\":{\"answer\":\"a\",\"time\":38},\"2_SectionB_6609\":{\"answer\":\"d\",\"time\":79},\"2_SectionA_6686\":{\"answer\":\"a\",\"time\":84},\"2_SectionB_6754\":{\"answer\":\"c\",\"time\":62},\"2_SectionA_6777\":{\"answer\":\"c\",\"time\":97},\"2_SectionA_6826\":{\"answer\":\"b\",\"time\":94},\"0_SectionA_368\":{\"answer\":\"d\",\"time\":55},\"0_SectionB_370\":{\"answer\":\"b\",\"time\":38},\"1_SectionA_2830\":{\"answer\":\"b\",\"time\":41},\"0_SectionB_906\":{\"answer\":\"a\",\"time\":49},\"0_SectionA_1052\":{\"answer\":\"d\",\"time\":87},\"0_SectionA_1388\":{\"answer\":\"a\",\"time\":71},\"0_SectionA_1571\":{\"answer\":\"b\",\"time\":59},\"0_SectionA_1662\":{\"answer\":\"b\",\"time\":76},\"0_SectionA_1671\":{\"answer\":\"b\",\"time\":56},\"1_SectionA_3175\":{\"answer\":\"b\",\"time\":33},\"1_SectionA_2351\":{\"answer\":\"d\",\"time\":68},\"1_SectionA_2401\":{\"answer\":\"b\",\"time\":42},\"1_SectionA_2429\":{\"answer\":\"a\",\"time\":65},\"1_SectionB_2430\":{\"answer\":\"d\",\"time\":98},\"1_SectionA_2449\":{\"answer\":\"d\",\"time\":55},\"1_SectionA_2450\":{\"answer\":\"a\",\"time\":81},\"1_SectionB_2467\":{\"answer\":\"b\",\"time\":39},\"1_SectionA_2468\":{\"answer\":\"d\",\"time\":52},\"1_SectionA_2475\":{\"answer\":\"a\",\"time\":53},\"1_SectionA_2956\":{\"answer\":\"b\",\"time\":32},\"1_SectionB_2990\":{\"answer\":\"b\",\"time\":39},\"1_SectionA_3126\":{\"answer\":\"b\",\"time\":51},\"1_SectionB_3171\":{\"answer\":\"d\",\"time\":39},\"1_SectionA_3197\":{\"answer\":\"b\",\"time\":99},\"1_SectionA_3321\":{\"answer\":\"b\",\"time\":83},\"3_SectionA_3828\":{\"answer\":\"d\",\"time\":35},\"2_SectionB_4404\":{\"answer\":\"c\",\"time\":86},\"3_SectionB_5204\":{\"answer\":\"b\",\"time\":48},\"3_SectionA_5481\":{\"answer\":\"d\",\"time\":55},\"3_SectionB_5540\":{\"answer\":\"a\",\"time\":30},\"2_SectionB_5609\":{\"answer\":\"d\",\"time\":77},\"2_SectionA_5678\":{\"answer\":\"a\",\"time\":54},\"3_SectionB_6110\":{\"answer\":\"b\",\"time\":61},\"3_SectionA_6208\":{\"answer\":\"a\",\"time\":93}}}"
   ]
  },
  {
   "cell_type": "code",
   "execution_count": null,
   "metadata": {},
   "outputs": [],
   "source": [
    "for a,b in d.items():\n",
    "    print(a,b)"
   ]
  },
  {
   "cell_type": "code",
   "execution_count": null,
   "metadata": {},
   "outputs": [],
   "source": []
  }
 ],
 "metadata": {
  "kernelspec": {
   "display_name": "Python 3",
   "language": "python",
   "name": "python3"
  },
  "language_info": {
   "codemirror_mode": {
    "name": "ipython",
    "version": 3
   },
   "file_extension": ".py",
   "mimetype": "text/x-python",
   "name": "python",
   "nbconvert_exporter": "python",
   "pygments_lexer": "ipython3",
   "version": "3.11.4"
  }
 },
 "nbformat": 4,
 "nbformat_minor": 2
}
