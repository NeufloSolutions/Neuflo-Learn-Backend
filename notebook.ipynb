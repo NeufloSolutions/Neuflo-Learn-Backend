{
 "cells": [
  {
   "cell_type": "code",
   "execution_count": 1,
   "metadata": {},
   "outputs": [],
   "source": [
    "import os\n",
    "import fnmatch\n",
    "\n",
    "def print_files_in_directory(root_dir, exclude_dirs):\n",
    "    for root, dirs, files in os.walk(root_dir):\n",
    "        # Exclude specific directories\n",
    "        dirs[:] = [d for d in dirs if not any(fnmatch.fnmatch(d, pattern) for pattern in exclude_dirs)]\n",
    "\n",
    "        for file in files:\n",
    "            print(os.path.join(root, file))"
   ]
  },
  {
   "cell_type": "code",
   "execution_count": 2,
   "metadata": {},
   "outputs": [
    {
     "name": "stdout",
     "output_type": "stream",
     "text": [
      "./.dockerignore\n",
      "./.gitignore\n",
      "./docker-compose.debug.yml\n",
      "./docker-compose.yml\n",
      "./Dockerfile\n",
      "./notebook.ipynb\n",
      "./query.txt\n",
      "./README.md\n",
      "./redis.conf\n",
      "./requirements.txt\n",
      "./Script.sql\n",
      "./service.py\n",
      "./start.sh\n",
      "./test.py\n",
      "./Backend/__init__.py\n",
      "./Backend/dbconfig/cache_management.py\n",
      "./Backend/dbconfig/config.py\n",
      "./Backend/dbconfig/db_connection.py\n",
      "./Backend/mock/ChapterWeightage.xlsx\n",
      "./Backend/mock/chapter_weightage_management.py\n",
      "./Backend/mock/mock_test_configuration_management.py\n",
      "./Backend/mock/mock_test_generation.py\n",
      "./Backend/mock/student_mock_test_history_management.py\n",
      "./Backend/practice/answer_retrieval.py\n",
      "./Backend/practice/practice_test_management.py\n",
      "./Backend/testmanagement/question_management.py\n",
      "./Backend/testmanagement/student_proficiency.py\n",
      "./Backend/testmanagement/test_result_calculation.py\n",
      "./Backend/__pycache__/backend.cpython-311.pyc\n",
      "./Backend/__pycache__/config.cpython-311.pyc\n",
      "./frontend/functions.py\n",
      "./frontend/main.py\n"
     ]
    }
   ],
   "source": [
    "# Usage \n",
    "exclude_dirs = ['Question Database', '.devcontainer','.git']\n",
    "root_directory = './'  # Replace with your directory path\n",
    "print_files_in_directory(root_directory, exclude_dirs)"
   ]
  },
  {
   "cell_type": "code",
   "execution_count": null,
   "metadata": {},
   "outputs": [],
   "source": []
  }
 ],
 "metadata": {
  "kernelspec": {
   "display_name": "Python 3",
   "language": "python",
   "name": "python3"
  },
  "language_info": {
   "codemirror_mode": {
    "name": "ipython",
    "version": 3
   },
   "file_extension": ".py",
   "mimetype": "text/x-python",
   "name": "python",
   "nbconvert_exporter": "python",
   "pygments_lexer": "ipython3",
   "version": "3.11.4"
  }
 },
 "nbformat": 4,
 "nbformat_minor": 2
}
